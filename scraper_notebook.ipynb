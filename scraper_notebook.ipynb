{
 "cells": [
  {
   "cell_type": "markdown",
   "metadata": {
    "collapsed": true
   },
   "source": [
    "# hello world"
   ]
  },
  {
   "cell_type": "code",
   "execution_count": 53,
   "metadata": {},
   "outputs": [
    {
     "name": "stdout",
     "output_type": "stream",
     "text": [
      "libraries successfully imported\n"
     ]
    }
   ],
   "source": [
    "### web scraper to take in data from ESPN Rugby StatsGuru\n",
    "### author: boudrejp\n",
    "### url: http://stats.espnscrum.com/statsguru/rugby/stats/index.html?class=1;page=1;spanmax1=08+Nov+2017;spanmax2=08+Nov+2017;spanmin1=08+Nov+2007;spanmin2=08+Nov+2015;spanval1=span;spanval2=span;template=results;type=player;view=match\n",
    "### can simply loop thru page numbers: this query gives 1061 pages of results\n",
    "\n",
    "import time\n",
    "from bs4 import BeautifulSoup\n",
    "import pandas as pd\n",
    "import numpy as np\n",
    "import urllib\n",
    "\n",
    "print('libraries successfully imported')"
   ]
  },
  {
   "cell_type": "code",
   "execution_count": 54,
   "metadata": {},
   "outputs": [
    {
     "name": "stderr",
     "output_type": "stream",
     "text": [
      "C:\\Users\\John\\Anaconda3\\lib\\site-packages\\bs4\\__init__.py:181: UserWarning: No parser was explicitly specified, so I'm using the best available HTML parser for this system (\"lxml\"). This usually isn't a problem, but if you run this code on another system, or in a different virtual environment, it may use a different parser and behave differently.\n",
      "\n",
      "The code that caused this warning is on line 193 of the file C:\\Users\\John\\Anaconda3\\lib\\runpy.py. To get rid of this warning, change code that looks like this:\n",
      "\n",
      " BeautifulSoup(YOUR_MARKUP})\n",
      "\n",
      "to this:\n",
      "\n",
      " BeautifulSoup(YOUR_MARKUP, \"lxml\")\n",
      "\n",
      "  markup_type=markup_type))\n"
     ]
    }
   ],
   "source": [
    "def table_url_page(page):\n",
    "\treturn('http://stats.espnscrum.com/statsguru/rugby/stats/index.html?class=1;page=' + str(page) +\n",
    "\t';spanmax1=08+Nov+2017;spanmax2=08+Nov+2017;spanmin1=08+Nov+2007;spanmin2=08+Nov+2015;' + \n",
    "\t'spanval1=span;spanval2=span;template=results;type=player;view=match')\n",
    "\n",
    "##will need to loop for all pages\n",
    "##use a time delay to not use up too many server resources\n",
    "\n",
    "with urllib.request.urlopen(table_url_page(1)) as url:\n",
    "    s = url.read()\n",
    "\n",
    "soup = BeautifulSoup(s)\n",
    "#print(soup)"
   ]
  },
  {
   "cell_type": "code",
   "execution_count": 56,
   "metadata": {},
   "outputs": [
    {
     "data": {
      "text/plain": [
       "50"
      ]
     },
     "execution_count": 56,
     "metadata": {},
     "output_type": "execute_result"
    }
   ],
   "source": [
    "table_entries = soup.find_all(\"tr\", class_=\"data1\")\n",
    "###returned is a list of all the HTML that is under this class...\n",
    "###each instance is saved as a separate entry\n",
    "#print(letters[1])\n",
    "len(table_entries)"
   ]
  },
  {
   "cell_type": "code",
   "execution_count": 58,
   "metadata": {},
   "outputs": [
    {
     "name": "stdout",
     "output_type": "stream",
     "text": [
      "Player is TAW Kotze\n",
      "Country is Namib\n",
      "Position is FH\n",
      "Scored 24 points\n",
      "Scored 0 tries\n",
      "Scored 12 conversions\n",
      "Scored 0 pens\n",
      "Scored 0 drop goals\n",
      "Result of game was won\n",
      "The opposition was Madagascar\n"
     ]
    }
   ],
   "source": [
    "###now, to trim the data into the categories that we want\n",
    "###for loop for each entry in the table on the given page. store all the values\n",
    "entry = table_entries[49]\n",
    "player = entry.find(\"a\", class_=\"data-link\").get_text()\n",
    "player = str(player)\n",
    "\n",
    "country = entry.find(\"i\").get_text()\n",
    "country = str(country)\n",
    "##get rid of parentheses around country abbreviation\n",
    "country = country.replace(\"(\", \"\")\n",
    "country = country.replace(\")\", \"\")\n",
    "\n",
    "position = entry.find_all(\"td\", class_=\"left\")[1].get_text()\n",
    "position = str(position)\n",
    "\n",
    "points_scored = entry.find(\"b\").get_text()\n",
    "points_scored = str(points_scored)\n",
    "\n",
    "tries_scored = entry.find_all(\"td\")[3].get_text()\n",
    "tries_scored = str(tries_scored)\n",
    "\n",
    "conversions_scored = entry.find_all(\"td\")[4].get_text()\n",
    "conversions_scored = str(conversions_scored)\n",
    "\n",
    "penalties_scored = entry.find_all(\"td\")[5].get_text()\n",
    "penalties_scored = str(penalties_scored)\n",
    "\n",
    "drops_scored = entry.find_all(\"td\")[6].get_text()\n",
    "drops_scored = str(drops_scored)\n",
    "\n",
    "result = entry.find_all(\"td\", class_=\"left\")[2].get_text()\n",
    "result = str(result)\n",
    "\n",
    "opposition = entry.find_all(\"td\", class_=\"left\")[3].get_text()\n",
    "opposition = str(opposition)\n",
    "opposition = opposition.replace(\"v \", \"\")\n",
    "\n",
    "print(\"Player is \" + player)\n",
    "print(\"Country is \" + country)\n",
    "print(\"Position is \" + position)\n",
    "print(\"Scored \" + points_scored + \" points\")\n",
    "print(\"Scored \" + tries_scored + \" tries\")\n",
    "print(\"Scored \" + conversions_scored + \" conversions\")\n",
    "print(\"Scored \" + penalties_scored + \" pens\") \n",
    "print(\"Scored \" + drops_scored + \" drop goals\")\n",
    "print(\"Result of game was \" + result)\n",
    "print(\"The opposition was \" + opposition)"
   ]
  },
  {
   "cell_type": "code",
   "execution_count": null,
   "metadata": {
    "collapsed": true
   },
   "outputs": [],
   "source": []
  }
 ],
 "metadata": {
  "kernelspec": {
   "display_name": "Python 3",
   "language": "python",
   "name": "python3"
  },
  "language_info": {
   "codemirror_mode": {
    "name": "ipython",
    "version": 3
   },
   "file_extension": ".py",
   "mimetype": "text/x-python",
   "name": "python",
   "nbconvert_exporter": "python",
   "pygments_lexer": "ipython3",
   "version": "3.6.1"
  }
 },
 "nbformat": 4,
 "nbformat_minor": 2
}
